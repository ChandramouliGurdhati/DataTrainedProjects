{
 "cells": [
  {
   "cell_type": "markdown",
   "id": "a4adabb1",
   "metadata": {},
   "source": [
    "# Salary Prediction"
   ]
  },
  {
   "cell_type": "code",
   "execution_count": 3,
   "id": "8ca1aceb",
   "metadata": {},
   "outputs": [],
   "source": [
    "import pandas as pd\n",
    "import numpy as np\n",
    "import seaborn as sns\n",
    "import matplotlib.pyplot as plt\n",
    "%matplotlib inline"
   ]
  },
  {
   "cell_type": "code",
   "execution_count": 4,
   "id": "6d129f66",
   "metadata": {},
   "outputs": [
    {
     "data": {
      "text/html": [
       "<div>\n",
       "<style scoped>\n",
       "    .dataframe tbody tr th:only-of-type {\n",
       "        vertical-align: middle;\n",
       "    }\n",
       "\n",
       "    .dataframe tbody tr th {\n",
       "        vertical-align: top;\n",
       "    }\n",
       "\n",
       "    .dataframe thead th {\n",
       "        text-align: right;\n",
       "    }\n",
       "</style>\n",
       "<table border=\"1\" class=\"dataframe\">\n",
       "  <thead>\n",
       "    <tr style=\"text-align: right;\">\n",
       "      <th></th>\n",
       "      <th>rank</th>\n",
       "      <th>discipline</th>\n",
       "      <th>yrs.since.phd</th>\n",
       "      <th>yrs.service</th>\n",
       "      <th>sex</th>\n",
       "      <th>salary</th>\n",
       "    </tr>\n",
       "  </thead>\n",
       "  <tbody>\n",
       "    <tr>\n",
       "      <th>0</th>\n",
       "      <td>Prof</td>\n",
       "      <td>B</td>\n",
       "      <td>19</td>\n",
       "      <td>18</td>\n",
       "      <td>Male</td>\n",
       "      <td>139750</td>\n",
       "    </tr>\n",
       "    <tr>\n",
       "      <th>1</th>\n",
       "      <td>Prof</td>\n",
       "      <td>B</td>\n",
       "      <td>20</td>\n",
       "      <td>16</td>\n",
       "      <td>Male</td>\n",
       "      <td>173200</td>\n",
       "    </tr>\n",
       "    <tr>\n",
       "      <th>2</th>\n",
       "      <td>AsstProf</td>\n",
       "      <td>B</td>\n",
       "      <td>4</td>\n",
       "      <td>3</td>\n",
       "      <td>Male</td>\n",
       "      <td>79750</td>\n",
       "    </tr>\n",
       "    <tr>\n",
       "      <th>3</th>\n",
       "      <td>Prof</td>\n",
       "      <td>B</td>\n",
       "      <td>45</td>\n",
       "      <td>39</td>\n",
       "      <td>Male</td>\n",
       "      <td>115000</td>\n",
       "    </tr>\n",
       "    <tr>\n",
       "      <th>4</th>\n",
       "      <td>Prof</td>\n",
       "      <td>B</td>\n",
       "      <td>40</td>\n",
       "      <td>41</td>\n",
       "      <td>Male</td>\n",
       "      <td>141500</td>\n",
       "    </tr>\n",
       "    <tr>\n",
       "      <th>...</th>\n",
       "      <td>...</td>\n",
       "      <td>...</td>\n",
       "      <td>...</td>\n",
       "      <td>...</td>\n",
       "      <td>...</td>\n",
       "      <td>...</td>\n",
       "    </tr>\n",
       "    <tr>\n",
       "      <th>392</th>\n",
       "      <td>Prof</td>\n",
       "      <td>A</td>\n",
       "      <td>33</td>\n",
       "      <td>30</td>\n",
       "      <td>Male</td>\n",
       "      <td>103106</td>\n",
       "    </tr>\n",
       "    <tr>\n",
       "      <th>393</th>\n",
       "      <td>Prof</td>\n",
       "      <td>A</td>\n",
       "      <td>31</td>\n",
       "      <td>19</td>\n",
       "      <td>Male</td>\n",
       "      <td>150564</td>\n",
       "    </tr>\n",
       "    <tr>\n",
       "      <th>394</th>\n",
       "      <td>Prof</td>\n",
       "      <td>A</td>\n",
       "      <td>42</td>\n",
       "      <td>25</td>\n",
       "      <td>Male</td>\n",
       "      <td>101738</td>\n",
       "    </tr>\n",
       "    <tr>\n",
       "      <th>395</th>\n",
       "      <td>Prof</td>\n",
       "      <td>A</td>\n",
       "      <td>25</td>\n",
       "      <td>15</td>\n",
       "      <td>Male</td>\n",
       "      <td>95329</td>\n",
       "    </tr>\n",
       "    <tr>\n",
       "      <th>396</th>\n",
       "      <td>AsstProf</td>\n",
       "      <td>A</td>\n",
       "      <td>8</td>\n",
       "      <td>4</td>\n",
       "      <td>Male</td>\n",
       "      <td>81035</td>\n",
       "    </tr>\n",
       "  </tbody>\n",
       "</table>\n",
       "<p>397 rows × 6 columns</p>\n",
       "</div>"
      ],
      "text/plain": [
       "         rank discipline  yrs.since.phd  yrs.service   sex  salary\n",
       "0        Prof          B             19           18  Male  139750\n",
       "1        Prof          B             20           16  Male  173200\n",
       "2    AsstProf          B              4            3  Male   79750\n",
       "3        Prof          B             45           39  Male  115000\n",
       "4        Prof          B             40           41  Male  141500\n",
       "..        ...        ...            ...          ...   ...     ...\n",
       "392      Prof          A             33           30  Male  103106\n",
       "393      Prof          A             31           19  Male  150564\n",
       "394      Prof          A             42           25  Male  101738\n",
       "395      Prof          A             25           15  Male   95329\n",
       "396  AsstProf          A              8            4  Male   81035\n",
       "\n",
       "[397 rows x 6 columns]"
      ]
     },
     "execution_count": 4,
     "metadata": {},
     "output_type": "execute_result"
    }
   ],
   "source": [
    "df=pd.read_csv('https://raw.githubusercontent.com/dsrscientist/dataset3/main/Salaries.csv')\n",
    "df"
   ]
  },
  {
   "cell_type": "code",
   "execution_count": 5,
   "id": "a40bbc29",
   "metadata": {},
   "outputs": [
    {
     "data": {
      "text/html": [
       "<div>\n",
       "<style scoped>\n",
       "    .dataframe tbody tr th:only-of-type {\n",
       "        vertical-align: middle;\n",
       "    }\n",
       "\n",
       "    .dataframe tbody tr th {\n",
       "        vertical-align: top;\n",
       "    }\n",
       "\n",
       "    .dataframe thead th {\n",
       "        text-align: right;\n",
       "    }\n",
       "</style>\n",
       "<table border=\"1\" class=\"dataframe\">\n",
       "  <thead>\n",
       "    <tr style=\"text-align: right;\">\n",
       "      <th></th>\n",
       "      <th>Rank</th>\n",
       "      <th>Grade</th>\n",
       "      <th>Phd</th>\n",
       "      <th>Experience</th>\n",
       "      <th>Sex</th>\n",
       "      <th>Salary</th>\n",
       "    </tr>\n",
       "  </thead>\n",
       "  <tbody>\n",
       "    <tr>\n",
       "      <th>0</th>\n",
       "      <td>Prof</td>\n",
       "      <td>B</td>\n",
       "      <td>19</td>\n",
       "      <td>18</td>\n",
       "      <td>Male</td>\n",
       "      <td>139750</td>\n",
       "    </tr>\n",
       "    <tr>\n",
       "      <th>1</th>\n",
       "      <td>Prof</td>\n",
       "      <td>B</td>\n",
       "      <td>20</td>\n",
       "      <td>16</td>\n",
       "      <td>Male</td>\n",
       "      <td>173200</td>\n",
       "    </tr>\n",
       "    <tr>\n",
       "      <th>2</th>\n",
       "      <td>AsstProf</td>\n",
       "      <td>B</td>\n",
       "      <td>4</td>\n",
       "      <td>3</td>\n",
       "      <td>Male</td>\n",
       "      <td>79750</td>\n",
       "    </tr>\n",
       "    <tr>\n",
       "      <th>3</th>\n",
       "      <td>Prof</td>\n",
       "      <td>B</td>\n",
       "      <td>45</td>\n",
       "      <td>39</td>\n",
       "      <td>Male</td>\n",
       "      <td>115000</td>\n",
       "    </tr>\n",
       "    <tr>\n",
       "      <th>4</th>\n",
       "      <td>Prof</td>\n",
       "      <td>B</td>\n",
       "      <td>40</td>\n",
       "      <td>41</td>\n",
       "      <td>Male</td>\n",
       "      <td>141500</td>\n",
       "    </tr>\n",
       "    <tr>\n",
       "      <th>...</th>\n",
       "      <td>...</td>\n",
       "      <td>...</td>\n",
       "      <td>...</td>\n",
       "      <td>...</td>\n",
       "      <td>...</td>\n",
       "      <td>...</td>\n",
       "    </tr>\n",
       "    <tr>\n",
       "      <th>392</th>\n",
       "      <td>Prof</td>\n",
       "      <td>A</td>\n",
       "      <td>33</td>\n",
       "      <td>30</td>\n",
       "      <td>Male</td>\n",
       "      <td>103106</td>\n",
       "    </tr>\n",
       "    <tr>\n",
       "      <th>393</th>\n",
       "      <td>Prof</td>\n",
       "      <td>A</td>\n",
       "      <td>31</td>\n",
       "      <td>19</td>\n",
       "      <td>Male</td>\n",
       "      <td>150564</td>\n",
       "    </tr>\n",
       "    <tr>\n",
       "      <th>394</th>\n",
       "      <td>Prof</td>\n",
       "      <td>A</td>\n",
       "      <td>42</td>\n",
       "      <td>25</td>\n",
       "      <td>Male</td>\n",
       "      <td>101738</td>\n",
       "    </tr>\n",
       "    <tr>\n",
       "      <th>395</th>\n",
       "      <td>Prof</td>\n",
       "      <td>A</td>\n",
       "      <td>25</td>\n",
       "      <td>15</td>\n",
       "      <td>Male</td>\n",
       "      <td>95329</td>\n",
       "    </tr>\n",
       "    <tr>\n",
       "      <th>396</th>\n",
       "      <td>AsstProf</td>\n",
       "      <td>A</td>\n",
       "      <td>8</td>\n",
       "      <td>4</td>\n",
       "      <td>Male</td>\n",
       "      <td>81035</td>\n",
       "    </tr>\n",
       "  </tbody>\n",
       "</table>\n",
       "<p>397 rows × 6 columns</p>\n",
       "</div>"
      ],
      "text/plain": [
       "         Rank Grade  Phd  Experience   Sex  Salary\n",
       "0        Prof     B   19          18  Male  139750\n",
       "1        Prof     B   20          16  Male  173200\n",
       "2    AsstProf     B    4           3  Male   79750\n",
       "3        Prof     B   45          39  Male  115000\n",
       "4        Prof     B   40          41  Male  141500\n",
       "..        ...   ...  ...         ...   ...     ...\n",
       "392      Prof     A   33          30  Male  103106\n",
       "393      Prof     A   31          19  Male  150564\n",
       "394      Prof     A   42          25  Male  101738\n",
       "395      Prof     A   25          15  Male   95329\n",
       "396  AsstProf     A    8           4  Male   81035\n",
       "\n",
       "[397 rows x 6 columns]"
      ]
     },
     "execution_count": 5,
     "metadata": {},
     "output_type": "execute_result"
    }
   ],
   "source": [
    "df.columns=['Rank','Grade','Phd','Experience','Sex','Salary']\n",
    "df"
   ]
  },
  {
   "cell_type": "code",
   "execution_count": 6,
   "id": "283d183c",
   "metadata": {},
   "outputs": [
    {
     "data": {
      "text/html": [
       "<div>\n",
       "<style scoped>\n",
       "    .dataframe tbody tr th:only-of-type {\n",
       "        vertical-align: middle;\n",
       "    }\n",
       "\n",
       "    .dataframe tbody tr th {\n",
       "        vertical-align: top;\n",
       "    }\n",
       "\n",
       "    .dataframe thead th {\n",
       "        text-align: right;\n",
       "    }\n",
       "</style>\n",
       "<table border=\"1\" class=\"dataframe\">\n",
       "  <thead>\n",
       "    <tr style=\"text-align: right;\">\n",
       "      <th></th>\n",
       "      <th>Rank</th>\n",
       "      <th>Grade</th>\n",
       "      <th>Phd</th>\n",
       "      <th>Experience</th>\n",
       "      <th>Sex</th>\n",
       "      <th>Salary</th>\n",
       "    </tr>\n",
       "  </thead>\n",
       "  <tbody>\n",
       "    <tr>\n",
       "      <th>0</th>\n",
       "      <td>Prof</td>\n",
       "      <td>B</td>\n",
       "      <td>19</td>\n",
       "      <td>18</td>\n",
       "      <td>Male</td>\n",
       "      <td>139750</td>\n",
       "    </tr>\n",
       "    <tr>\n",
       "      <th>1</th>\n",
       "      <td>Prof</td>\n",
       "      <td>B</td>\n",
       "      <td>20</td>\n",
       "      <td>16</td>\n",
       "      <td>Male</td>\n",
       "      <td>173200</td>\n",
       "    </tr>\n",
       "    <tr>\n",
       "      <th>2</th>\n",
       "      <td>AsstProf</td>\n",
       "      <td>B</td>\n",
       "      <td>4</td>\n",
       "      <td>3</td>\n",
       "      <td>Male</td>\n",
       "      <td>79750</td>\n",
       "    </tr>\n",
       "    <tr>\n",
       "      <th>3</th>\n",
       "      <td>Prof</td>\n",
       "      <td>B</td>\n",
       "      <td>45</td>\n",
       "      <td>39</td>\n",
       "      <td>Male</td>\n",
       "      <td>115000</td>\n",
       "    </tr>\n",
       "    <tr>\n",
       "      <th>4</th>\n",
       "      <td>Prof</td>\n",
       "      <td>B</td>\n",
       "      <td>40</td>\n",
       "      <td>41</td>\n",
       "      <td>Male</td>\n",
       "      <td>141500</td>\n",
       "    </tr>\n",
       "  </tbody>\n",
       "</table>\n",
       "</div>"
      ],
      "text/plain": [
       "       Rank Grade  Phd  Experience   Sex  Salary\n",
       "0      Prof     B   19          18  Male  139750\n",
       "1      Prof     B   20          16  Male  173200\n",
       "2  AsstProf     B    4           3  Male   79750\n",
       "3      Prof     B   45          39  Male  115000\n",
       "4      Prof     B   40          41  Male  141500"
      ]
     },
     "execution_count": 6,
     "metadata": {},
     "output_type": "execute_result"
    }
   ],
   "source": [
    "df.head()"
   ]
  },
  {
   "cell_type": "code",
   "execution_count": 7,
   "id": "4e5f5e3f",
   "metadata": {},
   "outputs": [
    {
     "data": {
      "text/plain": [
       "(397, 6)"
      ]
     },
     "execution_count": 7,
     "metadata": {},
     "output_type": "execute_result"
    }
   ],
   "source": [
    "df.shape"
   ]
  },
  {
   "cell_type": "code",
   "execution_count": 8,
   "id": "d768f0d5",
   "metadata": {},
   "outputs": [
    {
     "data": {
      "text/plain": [
       "Rank          object\n",
       "Grade         object\n",
       "Phd            int64\n",
       "Experience     int64\n",
       "Sex           object\n",
       "Salary         int64\n",
       "dtype: object"
      ]
     },
     "execution_count": 8,
     "metadata": {},
     "output_type": "execute_result"
    }
   ],
   "source": [
    "df.dtypes"
   ]
  },
  {
   "cell_type": "code",
   "execution_count": 9,
   "id": "e0ef19f6",
   "metadata": {},
   "outputs": [
    {
     "data": {
      "text/plain": [
       "Rank          0\n",
       "Grade         0\n",
       "Phd           0\n",
       "Experience    0\n",
       "Sex           0\n",
       "Salary        0\n",
       "dtype: int64"
      ]
     },
     "execution_count": 9,
     "metadata": {},
     "output_type": "execute_result"
    }
   ],
   "source": [
    "df.isnull().sum()"
   ]
  },
  {
   "cell_type": "code",
   "execution_count": 10,
   "id": "23e3be42",
   "metadata": {},
   "outputs": [
    {
     "data": {
      "text/plain": [
       "array([139750, 173200,  79750, 115000, 141500,  97000, 175000, 147765,\n",
       "       119250, 129000, 119800,  79800,  77700,  78000, 104800, 117150,\n",
       "       101000, 103450, 124750, 137000,  89565, 102580,  93904, 113068,\n",
       "        74830, 106294, 134885,  82379,  77000, 118223, 132261,  79916,\n",
       "       117256,  80225, 155750,  86373, 125196, 100938, 146500,  93418,\n",
       "       101299, 231545,  94384, 114778,  98193, 151768, 140096,  70768,\n",
       "       126621, 108875,  74692, 106639, 103760,  83900, 117704,  90215,\n",
       "       100135,  75044,  90304,  75243, 109785, 103613,  68404, 100522,\n",
       "        99418, 111512,  91412, 126320, 146856, 100131,  92391, 113398,\n",
       "        73266, 150480, 193000,  86100,  84240, 150743, 135585, 144640,\n",
       "        88825, 122960, 132825, 152708,  88400, 172272, 107008,  97032,\n",
       "       105128, 105631, 166024, 123683,  84000,  95611, 129676, 102235,\n",
       "       106689, 133217, 126933, 153303, 127512,  83850, 113543,  82099,\n",
       "        82600,  81500, 131205, 112429,  82100,  72500, 104279, 105000,\n",
       "       120806, 148500, 117515,  73500, 115313, 124309,  97262,  62884,\n",
       "        96614,  78162, 155500, 113278,  73000,  83001,  76840,  77500,\n",
       "       168635, 136000, 108262, 105668,  73877, 152664, 100102, 106608,\n",
       "        89942, 112696, 119015,  92000, 156938, 144651,  95079, 128148,\n",
       "       111168, 103994, 118971, 113341,  88000,  95408, 137167,  89516,\n",
       "       176500,  98510,  88795, 105890, 167284, 130664, 101210, 181257,\n",
       "        91227, 151575,  93164, 134185, 111751,  95436, 100944, 147349,\n",
       "       142467, 141136, 100000, 150000, 134000, 103750, 107500, 106300,\n",
       "       153750, 180000, 133700, 122100,  86250,  90000, 113600,  92700,\n",
       "       189409, 114500, 119700, 160400, 152500, 165000,  96545, 162200,\n",
       "       120000,  91300, 163200,  91000, 111350, 128400, 126200, 118700,\n",
       "       145350, 146000, 105350, 109650, 119500, 170000, 145200, 107150,\n",
       "       129600,  87800, 122400,  63900,  70000,  88175, 133900,  73300,\n",
       "       148750, 117555,  69700,  81700, 114000,  63100,  77202,  96200,\n",
       "        69200, 122875, 102600, 108200,  84273,  90450,  91100, 101100,\n",
       "       128800, 204000, 109000, 102000, 132000, 116450,  83000, 140300,\n",
       "        74000,  73800,  92550,  88600, 107550, 121200, 126000,  99000,\n",
       "       134800, 143940, 104350,  89650, 103700, 143250, 194800,  78500,\n",
       "        93000, 107200, 107100, 100600, 136500, 103600,  57800, 155865,\n",
       "        88650,  81800, 115800,  85000, 150500, 174500, 168500, 183800,\n",
       "       107300,  97150, 126300, 148800,  72300,  70700, 127100, 170500,\n",
       "       105260, 144050,  74500, 122500, 166800,  92050, 108100,  94350,\n",
       "       100351, 146800,  84716,  71065,  67559, 134550, 135027, 104428,\n",
       "        95642, 126431, 161101, 162221,  84500, 124714, 151650,  99247,\n",
       "       134778, 192253, 116518, 105450, 145098, 104542, 151445,  98053,\n",
       "       145000, 128464, 137317, 106231, 124312, 114596, 162150, 150376,\n",
       "       107986, 142023, 128250,  80139, 144309, 186960,  93519, 142500,\n",
       "       138000,  83600, 145028,  88709, 107309, 109954,  78785, 121946,\n",
       "       109646, 138771,  81285, 205500, 101036, 115435, 108413, 131950,\n",
       "       134690,  78182, 110515, 109707, 136660, 103275, 103649,  74856,\n",
       "        77081, 150680, 104121,  75996, 172505,  86895, 125192, 114330,\n",
       "       139219, 109305, 119450, 186023, 166605, 151292, 103106, 150564,\n",
       "       101738,  95329,  81035], dtype=int64)"
      ]
     },
     "execution_count": 10,
     "metadata": {},
     "output_type": "execute_result"
    }
   ],
   "source": [
    "df['Salary'].unique()"
   ]
  },
  {
   "cell_type": "code",
   "execution_count": 11,
   "id": "7b7de20e",
   "metadata": {},
   "outputs": [
    {
     "data": {
      "text/html": [
       "<div>\n",
       "<style scoped>\n",
       "    .dataframe tbody tr th:only-of-type {\n",
       "        vertical-align: middle;\n",
       "    }\n",
       "\n",
       "    .dataframe tbody tr th {\n",
       "        vertical-align: top;\n",
       "    }\n",
       "\n",
       "    .dataframe thead th {\n",
       "        text-align: right;\n",
       "    }\n",
       "</style>\n",
       "<table border=\"1\" class=\"dataframe\">\n",
       "  <thead>\n",
       "    <tr style=\"text-align: right;\">\n",
       "      <th></th>\n",
       "      <th>Phd</th>\n",
       "      <th>Experience</th>\n",
       "      <th>Salary</th>\n",
       "    </tr>\n",
       "  </thead>\n",
       "  <tbody>\n",
       "    <tr>\n",
       "      <th>count</th>\n",
       "      <td>397.000000</td>\n",
       "      <td>397.000000</td>\n",
       "      <td>397.000000</td>\n",
       "    </tr>\n",
       "    <tr>\n",
       "      <th>mean</th>\n",
       "      <td>22.314861</td>\n",
       "      <td>17.614610</td>\n",
       "      <td>113706.458438</td>\n",
       "    </tr>\n",
       "    <tr>\n",
       "      <th>std</th>\n",
       "      <td>12.887003</td>\n",
       "      <td>13.006024</td>\n",
       "      <td>30289.038695</td>\n",
       "    </tr>\n",
       "    <tr>\n",
       "      <th>min</th>\n",
       "      <td>1.000000</td>\n",
       "      <td>0.000000</td>\n",
       "      <td>57800.000000</td>\n",
       "    </tr>\n",
       "    <tr>\n",
       "      <th>25%</th>\n",
       "      <td>12.000000</td>\n",
       "      <td>7.000000</td>\n",
       "      <td>91000.000000</td>\n",
       "    </tr>\n",
       "    <tr>\n",
       "      <th>50%</th>\n",
       "      <td>21.000000</td>\n",
       "      <td>16.000000</td>\n",
       "      <td>107300.000000</td>\n",
       "    </tr>\n",
       "    <tr>\n",
       "      <th>75%</th>\n",
       "      <td>32.000000</td>\n",
       "      <td>27.000000</td>\n",
       "      <td>134185.000000</td>\n",
       "    </tr>\n",
       "    <tr>\n",
       "      <th>max</th>\n",
       "      <td>56.000000</td>\n",
       "      <td>60.000000</td>\n",
       "      <td>231545.000000</td>\n",
       "    </tr>\n",
       "  </tbody>\n",
       "</table>\n",
       "</div>"
      ],
      "text/plain": [
       "              Phd  Experience         Salary\n",
       "count  397.000000  397.000000     397.000000\n",
       "mean    22.314861   17.614610  113706.458438\n",
       "std     12.887003   13.006024   30289.038695\n",
       "min      1.000000    0.000000   57800.000000\n",
       "25%     12.000000    7.000000   91000.000000\n",
       "50%     21.000000   16.000000  107300.000000\n",
       "75%     32.000000   27.000000  134185.000000\n",
       "max     56.000000   60.000000  231545.000000"
      ]
     },
     "execution_count": 11,
     "metadata": {},
     "output_type": "execute_result"
    }
   ],
   "source": [
    "df.describe()"
   ]
  },
  {
   "cell_type": "code",
   "execution_count": 12,
   "id": "59bbb760",
   "metadata": {},
   "outputs": [
    {
     "data": {
      "text/plain": [
       "Rank          False\n",
       "Grade         False\n",
       "Phd           False\n",
       "Experience    False\n",
       "Sex           False\n",
       "Salary        False\n",
       "dtype: bool"
      ]
     },
     "execution_count": 12,
     "metadata": {},
     "output_type": "execute_result"
    }
   ],
   "source": [
    "df.isnull().any()"
   ]
  },
  {
   "cell_type": "code",
   "execution_count": 13,
   "id": "c0350a80",
   "metadata": {},
   "outputs": [
    {
     "data": {
      "text/plain": [
       "Rank          0\n",
       "Grade         0\n",
       "Phd           0\n",
       "Experience    0\n",
       "Sex           0\n",
       "Salary        0\n",
       "dtype: int64"
      ]
     },
     "execution_count": 13,
     "metadata": {},
     "output_type": "execute_result"
    }
   ],
   "source": [
    "df.isnull().sum()"
   ]
  },
  {
   "cell_type": "code",
   "execution_count": 14,
   "id": "35077049",
   "metadata": {},
   "outputs": [
    {
     "data": {
      "text/plain": [
       "<seaborn.axisgrid.PairGrid at 0x142bfdc17c0>"
      ]
     },
     "execution_count": 14,
     "metadata": {},
     "output_type": "execute_result"
    },
    {
     "data": {
      "image/png": "[encoded data removed]",
      "text/plain": [
       "<Figure size 180x180 with 1 Axes>"
      ]
     },
     "metadata": {
      "needs_background": "light"
     },
     "output_type": "display_data"
    }
   ],
   "source": [
    "sns.pairplot(y_vars = 'Salary', x_vars = 'Experience' ,data = df)\n"
   ]
  },
  {
   "cell_type": "code",
   "execution_count": 15,
   "id": "95584e52",
   "metadata": {},
   "outputs": [
    {
     "data": {
      "text/plain": [
       "<seaborn.axisgrid.PairGrid at 0x142bfd9fcd0>"
      ]
     },
     "execution_count": 15,
     "metadata": {},
     "output_type": "execute_result"
    },
    {
     "data": {
      "image/png": "[encoded data removed]",
      "text/plain": [
       "<Figure size 180x180 with 1 Axes>"
      ]
     },
     "metadata": {
      "needs_background": "light"
     },
     "output_type": "display_data"
    }
   ],
   "source": [
    "sns.pairplot(y_vars = 'Salary', x_vars = 'Phd' ,data = df)"
   ]
  },
  {
   "cell_type": "code",
   "execution_count": 16,
   "id": "55d0fc23",
   "metadata": {},
   "outputs": [
    {
     "data": {
      "text/plain": [
       "<seaborn.axisgrid.PairGrid at 0x142c05d1ee0>"
      ]
     },
     "execution_count": 16,
     "metadata": {},
     "output_type": "execute_result"
    },
    {
     "data": {
      "image/png": "[encoded data removed]",
      "text/plain": [
       "<Figure size 180x180 with 1 Axes>"
      ]
     },
     "metadata": {
      "needs_background": "light"
     },
     "output_type": "display_data"
    }
   ],
   "source": [
    "sns.pairplot(y_vars = 'Salary', x_vars = 'Sex' ,data = df)"
   ]
  },
  {
   "cell_type": "code",
   "execution_count": 17,
   "id": "d452b635",
   "metadata": {},
   "outputs": [
    {
     "data": {
      "text/plain": [
       "<seaborn.axisgrid.PairGrid at 0x142c054b070>"
      ]
     },
     "execution_count": 17,
     "metadata": {},
     "output_type": "execute_result"
    },
    {
     "data": {
      "image/png": "[encoded data removed]",
      "text/plain": [
       "<Figure size 180x180 with 1 Axes>"
      ]
     },
     "metadata": {
      "needs_background": "light"
     },
     "output_type": "display_data"
    }
   ],
   "source": [
    "sns.pairplot(y_vars = 'Salary', x_vars = 'Rank' ,data = df)"
   ]
  },
  {
   "cell_type": "code",
   "execution_count": 18,
   "id": "860aeb6a",
   "metadata": {},
   "outputs": [
    {
     "data": {
      "text/plain": [
       "<seaborn.axisgrid.PairGrid at 0x142c069e6a0>"
      ]
     },
     "execution_count": 18,
     "metadata": {},
     "output_type": "execute_result"
    },
    {
     "data": {
      "image/png": "[encoded data removed]",
      "text/plain": [
       "<Figure size 180x180 with 1 Axes>"
      ]
     },
     "metadata": {
      "needs_background": "light"
     },
     "output_type": "display_data"
    }
   ],
   "source": [
    "sns.pairplot(y_vars = 'Salary', x_vars = 'Grade' ,data = df)"
   ]
  },
  {
   "cell_type": "code",
   "execution_count": 19,
   "id": "03f1f9fe",
   "metadata": {},
   "outputs": [
    {
     "data": {
      "text/plain": [
       "[<matplotlib.lines.Line2D at 0x142c07382b0>]"
      ]
     },
     "execution_count": 19,
     "metadata": {},
     "output_type": "execute_result"
    },
    {
     "data": {
      "image/png": "[encoded data removed]",
      "text/plain": [
       "<Figure size 432x288 with 1 Axes>"
      ]
     },
     "metadata": {
      "needs_background": "light"
     },
     "output_type": "display_data"
    }
   ],
   "source": [
    "plt.plot(df['Salary'],df['Experience'])"
   ]
  },
  {
   "cell_type": "code",
   "execution_count": 20,
   "id": "a17b46c5",
   "metadata": {},
   "outputs": [
    {
     "data": {
      "text/plain": [
       "[<matplotlib.lines.Line2D at 0x142c07ad4f0>]"
      ]
     },
     "execution_count": 20,
     "metadata": {},
     "output_type": "execute_result"
    },
    {
     "data": {
      "image/png": "[encoded data removed]",
      "text/plain": [
       "<Figure size 432x288 with 1 Axes>"
      ]
     },
     "metadata": {
      "needs_background": "light"
     },
     "output_type": "display_data"
    }
   ],
   "source": [
    "plt.plot(df['Salary'],df['Rank'])"
   ]
  },
  {
   "cell_type": "code",
   "execution_count": 21,
   "id": "7baa12e6",
   "metadata": {},
   "outputs": [
    {
     "data": {
      "text/plain": [
       "[<matplotlib.lines.Line2D at 0x142c0802e50>]"
      ]
     },
     "execution_count": 21,
     "metadata": {},
     "output_type": "execute_result"
    },
    {
     "data": {
      "image/png": "[encoded data removed]",
      "text/plain": [
       "<Figure size 432x288 with 1 Axes>"
      ]
     },
     "metadata": {
      "needs_background": "light"
     },
     "output_type": "display_data"
    }
   ],
   "source": [
    "plt.plot(df['Salary'],df['Grade'])"
   ]
  },
  {
   "cell_type": "code",
   "execution_count": 22,
   "id": "8034f651",
   "metadata": {},
   "outputs": [
    {
     "data": {
      "text/plain": [
       "[<matplotlib.lines.Line2D at 0x142c085cf10>]"
      ]
     },
     "execution_count": 22,
     "metadata": {},
     "output_type": "execute_result"
    },
    {
     "data": {
      "image/png": "[encoded data removed]",
      "text/plain": [
       "<Figure size 432x288 with 1 Axes>"
      ]
     },
     "metadata": {
      "needs_background": "light"
     },
     "output_type": "display_data"
    }
   ],
   "source": [
    "plt.plot(df['Salary'],df['Phd'])"
   ]
  },
  {
   "cell_type": "code",
   "execution_count": 23,
   "id": "2ad0d084",
   "metadata": {},
   "outputs": [
    {
     "data": {
      "text/plain": [
       "[<matplotlib.lines.Line2D at 0x142c18a7160>]"
      ]
     },
     "execution_count": 23,
     "metadata": {},
     "output_type": "execute_result"
    },
    {
     "data": {
      "image/png": "[encoded data removed]",
      "text/plain": [
       "<Figure size 432x288 with 1 Axes>"
      ]
     },
     "metadata": {
      "needs_background": "light"
     },
     "output_type": "display_data"
    }
   ],
   "source": [
    "plt.plot(df['Salary'],df['Sex'])"
   ]
  },
  {
   "cell_type": "code",
   "execution_count": 24,
   "id": "ed0a2494",
   "metadata": {},
   "outputs": [
    {
     "data": {
      "text/plain": [
       "<AxesSubplot:>"
      ]
     },
     "execution_count": 24,
     "metadata": {},
     "output_type": "execute_result"
    },
    {
     "data": {
      "image/png": "[encoded data removed]",
      "text/plain": [
       "<Figure size 432x288 with 1 Axes>"
      ]
     },
     "metadata": {
      "needs_background": "light"
     },
     "output_type": "display_data"
    }
   ],
   "source": [
    "df.Salary.hist()"
   ]
  },
  {
   "cell_type": "code",
   "execution_count": 25,
   "id": "1bac0f2f",
   "metadata": {},
   "outputs": [
    {
     "data": {
      "text/plain": [
       "<AxesSubplot:>"
      ]
     },
     "execution_count": 25,
     "metadata": {},
     "output_type": "execute_result"
    },
    {
     "data": {
      "image/png": "[encoded data removed]",
      "text/plain": [
       "<Figure size 432x288 with 1 Axes>"
      ]
     },
     "metadata": {
      "needs_background": "light"
     },
     "output_type": "display_data"
    }
   ],
   "source": [
    "df.Experience.hist()"
   ]
  },
  {
   "cell_type": "code",
   "execution_count": 26,
   "id": "a60cd4a4",
   "metadata": {},
   "outputs": [
    {
     "data": {
      "text/plain": [
       "<AxesSubplot:>"
      ]
     },
     "execution_count": 26,
     "metadata": {},
     "output_type": "execute_result"
    },
    {
     "data": {
      "image/png": "[encoded data removed]",
      "text/plain": [
       "<Figure size 432x288 with 1 Axes>"
      ]
     },
     "metadata": {
      "needs_background": "light"
     },
     "output_type": "display_data"
    }
   ],
   "source": [
    "df.Phd.hist()"
   ]
  },
  {
   "cell_type": "code",
   "execution_count": 27,
   "id": "91c2488b",
   "metadata": {},
   "outputs": [
    {
     "data": {
      "text/plain": [
       "<AxesSubplot:>"
      ]
     },
     "execution_count": 27,
     "metadata": {},
     "output_type": "execute_result"
    },
    {
     "data": {
      "image/png": "[encoded data removed]",
      "text/plain": [
       "<Figure size 432x288 with 1 Axes>"
      ]
     },
     "metadata": {
      "needs_background": "light"
     },
     "output_type": "display_data"
    }
   ],
   "source": [
    "df.Grade.hist()"
   ]
  },
  {
   "cell_type": "code",
   "execution_count": 28,
   "id": "fa4bf940",
   "metadata": {},
   "outputs": [
    {
     "data": {
      "text/plain": [
       "<AxesSubplot:>"
      ]
     },
     "execution_count": 28,
     "metadata": {},
     "output_type": "execute_result"
    },
    {
     "data": {
      "image/png": "[encoded data removed]",
      "text/plain": [
       "<Figure size 432x288 with 1 Axes>"
      ]
     },
     "metadata": {
      "needs_background": "light"
     },
     "output_type": "display_data"
    }
   ],
   "source": [
    "df.Sex.hist()"
   ]
  },
  {
   "cell_type": "code",
   "execution_count": 29,
   "id": "83e4b5ca",
   "metadata": {},
   "outputs": [
    {
     "data": {
      "text/html": [
       "<div>\n",
       "<style scoped>\n",
       "    .dataframe tbody tr th:only-of-type {\n",
       "        vertical-align: middle;\n",
       "    }\n",
       "\n",
       "    .dataframe tbody tr th {\n",
       "        vertical-align: top;\n",
       "    }\n",
       "\n",
       "    .dataframe thead th {\n",
       "        text-align: right;\n",
       "    }\n",
       "</style>\n",
       "<table border=\"1\" class=\"dataframe\">\n",
       "  <thead>\n",
       "    <tr style=\"text-align: right;\">\n",
       "      <th></th>\n",
       "      <th>Phd</th>\n",
       "      <th>Experience</th>\n",
       "      <th>Salary</th>\n",
       "    </tr>\n",
       "  </thead>\n",
       "  <tbody>\n",
       "    <tr>\n",
       "      <th>Phd</th>\n",
       "      <td>1.000000</td>\n",
       "      <td>0.909649</td>\n",
       "      <td>0.419231</td>\n",
       "    </tr>\n",
       "    <tr>\n",
       "      <th>Experience</th>\n",
       "      <td>0.909649</td>\n",
       "      <td>1.000000</td>\n",
       "      <td>0.334745</td>\n",
       "    </tr>\n",
       "    <tr>\n",
       "      <th>Salary</th>\n",
       "      <td>0.419231</td>\n",
       "      <td>0.334745</td>\n",
       "      <td>1.000000</td>\n",
       "    </tr>\n",
       "  </tbody>\n",
       "</table>\n",
       "</div>"
      ],
      "text/plain": [
       "                 Phd  Experience    Salary\n",
       "Phd         1.000000    0.909649  0.419231\n",
       "Experience  0.909649    1.000000  0.334745\n",
       "Salary      0.419231    0.334745  1.000000"
      ]
     },
     "execution_count": 29,
     "metadata": {},
     "output_type": "execute_result"
    }
   ],
   "source": [
    "df[['Phd','Experience','Salary']].corr()"
   ]
  },
  {
   "cell_type": "code",
   "execution_count": 30,
   "id": "418b1ad2",
   "metadata": {},
   "outputs": [
    {
     "data": {
      "text/plain": [
       "<AxesSubplot:>"
      ]
     },
     "execution_count": 30,
     "metadata": {},
     "output_type": "execute_result"
    },
    {
     "data": {
      "image/png": "[encoded data removed]",
      "text/plain": [
       "<Figure size 432x288 with 2 Axes>"
      ]
     },
     "metadata": {
      "needs_background": "light"
     },
     "output_type": "display_data"
    }
   ],
   "source": [
    "cmap = sns.diverging_palette(220, 10, as_cmap=True)\n",
    "sns.heatmap(df[['Phd','Experience','Salary']].corr(),vmax=.3, center=0, cmap=cmap,\n",
    "            square=True, linewidths=.5, cbar_kws={\"shrink\": .5})\n"
   ]
  },
  {
   "cell_type": "code",
   "execution_count": 31,
   "id": "8d42dca6",
   "metadata": {},
   "outputs": [
    {
     "data": {
      "text/plain": [
       "(array([[18],\n",
       "        [16],\n",
       "        [ 3],\n",
       "        [39],\n",
       "        [41],\n",
       "        [ 6],\n",
       "        [23],\n",
       "        [45],\n",
       "        [20],\n",
       "        [18],\n",
       "        [ 8],\n",
       "        [ 2],\n",
       "        [ 1],\n",
       "        [ 0],\n",
       "        [18],\n",
       "        [ 3],\n",
       "        [20],\n",
       "        [34],\n",
       "        [23],\n",
       "        [36],\n",
       "        [26],\n",
       "        [31],\n",
       "        [30],\n",
       "        [19],\n",
       "        [ 8],\n",
       "        [ 8],\n",
       "        [23],\n",
       "        [ 3],\n",
       "        [ 0],\n",
       "        [ 8],\n",
       "        [ 4],\n",
       "        [ 2],\n",
       "        [ 9],\n",
       "        [ 2],\n",
       "        [ 2],\n",
       "        [ 0],\n",
       "        [21],\n",
       "        [ 4],\n",
       "        [31],\n",
       "        [ 9],\n",
       "        [ 2],\n",
       "        [23],\n",
       "        [27],\n",
       "        [38],\n",
       "        [19],\n",
       "        [15],\n",
       "        [28],\n",
       "        [19],\n",
       "        [25],\n",
       "        [ 1],\n",
       "        [28],\n",
       "        [11],\n",
       "        [ 3],\n",
       "        [ 9],\n",
       "        [11],\n",
       "        [ 5],\n",
       "        [21],\n",
       "        [ 8],\n",
       "        [ 9],\n",
       "        [ 3],\n",
       "        [ 8],\n",
       "        [ 2],\n",
       "        [31],\n",
       "        [11],\n",
       "        [ 3],\n",
       "        [ 8],\n",
       "        [12],\n",
       "        [31],\n",
       "        [17],\n",
       "        [36],\n",
       "        [ 2],\n",
       "        [45],\n",
       "        [19],\n",
       "        [34],\n",
       "        [23],\n",
       "        [ 3],\n",
       "        [ 3],\n",
       "        [19],\n",
       "        [ 1],\n",
       "        [ 2],\n",
       "        [28],\n",
       "        [16],\n",
       "        [20],\n",
       "        [ 2],\n",
       "        [18],\n",
       "        [14],\n",
       "        [37],\n",
       "        [ 2],\n",
       "        [25],\n",
       "        [ 7],\n",
       "        [ 5],\n",
       "        [ 7],\n",
       "        [ 7],\n",
       "        [38],\n",
       "        [20],\n",
       "        [ 0],\n",
       "        [12],\n",
       "        [ 7],\n",
       "        [14],\n",
       "        [26],\n",
       "        [25],\n",
       "        [23],\n",
       "        [ 5],\n",
       "        [14],\n",
       "        [10],\n",
       "        [28],\n",
       "        [ 8],\n",
       "        [ 8],\n",
       "        [ 8],\n",
       "        [31],\n",
       "        [16],\n",
       "        [16],\n",
       "        [ 1],\n",
       "        [37],\n",
       "        [ 0],\n",
       "        [ 9],\n",
       "        [29],\n",
       "        [36],\n",
       "        [ 1],\n",
       "        [ 3],\n",
       "        [14],\n",
       "        [32],\n",
       "        [22],\n",
       "        [22],\n",
       "        [22],\n",
       "        [49],\n",
       "        [26],\n",
       "        [ 0],\n",
       "        [30],\n",
       "        [ 2],\n",
       "        [ 9],\n",
       "        [57],\n",
       "        [ 8],\n",
       "        [ 1],\n",
       "        [25],\n",
       "        [18],\n",
       "        [14],\n",
       "        [14],\n",
       "        [ 7],\n",
       "        [18],\n",
       "        [ 8],\n",
       "        [10],\n",
       "        [11],\n",
       "        [ 3],\n",
       "        [27],\n",
       "        [28],\n",
       "        [ 4],\n",
       "        [27],\n",
       "        [26],\n",
       "        [ 3],\n",
       "        [12],\n",
       "        [ 4],\n",
       "        [ 9],\n",
       "        [10],\n",
       "        [ 0],\n",
       "        [21],\n",
       "        [18],\n",
       "        [ 0],\n",
       "        [ 6],\n",
       "        [16],\n",
       "        [ 2],\n",
       "        [19],\n",
       "        [ 7],\n",
       "        [ 3],\n",
       "        [ 0],\n",
       "        [ 8],\n",
       "        [16],\n",
       "        [19],\n",
       "        [ 6],\n",
       "        [18],\n",
       "        [ 5],\n",
       "        [19],\n",
       "        [24],\n",
       "        [20],\n",
       "        [ 6],\n",
       "        [25],\n",
       "        [ 7],\n",
       "        [ 9],\n",
       "        [14],\n",
       "        [ 3],\n",
       "        [11],\n",
       "        [ 5],\n",
       "        [ 8],\n",
       "        [22],\n",
       "        [23],\n",
       "        [30],\n",
       "        [10],\n",
       "        [10],\n",
       "        [28],\n",
       "        [19],\n",
       "        [ 9],\n",
       "        [22],\n",
       "        [18],\n",
       "        [19],\n",
       "        [53],\n",
       "        [ 7],\n",
       "        [ 4],\n",
       "        [ 4],\n",
       "        [33],\n",
       "        [22],\n",
       "        [ 4],\n",
       "        [40],\n",
       "        [17],\n",
       "        [17],\n",
       "        [ 5],\n",
       "        [ 2],\n",
       "        [33],\n",
       "        [18],\n",
       "        [ 2],\n",
       "        [20],\n",
       "        [ 3],\n",
       "        [39],\n",
       "        [ 7],\n",
       "        [19],\n",
       "        [ 1],\n",
       "        [11],\n",
       "        [11],\n",
       "        [22],\n",
       "        [ 7],\n",
       "        [11],\n",
       "        [21],\n",
       "        [10],\n",
       "        [ 6],\n",
       "        [20],\n",
       "        [35],\n",
       "        [20],\n",
       "        [ 1],\n",
       "        [ 7],\n",
       "        [11],\n",
       "        [38],\n",
       "        [27],\n",
       "        [24],\n",
       "        [19],\n",
       "        [19],\n",
       "        [ 3],\n",
       "        [17],\n",
       "        [25],\n",
       "        [ 6],\n",
       "        [40],\n",
       "        [ 6],\n",
       "        [ 3],\n",
       "        [30],\n",
       "        [37],\n",
       "        [23],\n",
       "        [23],\n",
       "        [11],\n",
       "        [23],\n",
       "        [18],\n",
       "        [23],\n",
       "        [ 7],\n",
       "        [39],\n",
       "        [ 8],\n",
       "        [12],\n",
       "        [ 2],\n",
       "        [ 7],\n",
       "        [ 8],\n",
       "        [22],\n",
       "        [23],\n",
       "        [ 3],\n",
       "        [30],\n",
       "        [33],\n",
       "        [45],\n",
       "        [26],\n",
       "        [31],\n",
       "        [35],\n",
       "        [30],\n",
       "        [43],\n",
       "        [10],\n",
       "        [44],\n",
       "        [ 7],\n",
       "        [40],\n",
       "        [18],\n",
       "        [ 1],\n",
       "        [ 4],\n",
       "        [ 3],\n",
       "        [ 6],\n",
       "        [48],\n",
       "        [27],\n",
       "        [18],\n",
       "        [46],\n",
       "        [38],\n",
       "        [27],\n",
       "        [51],\n",
       "        [43],\n",
       "        [ 6],\n",
       "        [49],\n",
       "        [27],\n",
       "        [ 0],\n",
       "        [27],\n",
       "        [ 5],\n",
       "        [ 7],\n",
       "        [28],\n",
       "        [ 9],\n",
       "        [ 1],\n",
       "        [ 7],\n",
       "        [36],\n",
       "        [18],\n",
       "        [11],\n",
       "        [43],\n",
       "        [39],\n",
       "        [36],\n",
       "        [16],\n",
       "        [13],\n",
       "        [ 4],\n",
       "        [44],\n",
       "        [31],\n",
       "        [ 4],\n",
       "        [28],\n",
       "        [ 0],\n",
       "        [15],\n",
       "        [ 7],\n",
       "        [ 9],\n",
       "        [19],\n",
       "        [35],\n",
       "        [ 6],\n",
       "        [ 3],\n",
       "        [ 9],\n",
       "        [45],\n",
       "        [16],\n",
       "        [15],\n",
       "        [23],\n",
       "        [ 9],\n",
       "        [11],\n",
       "        [15],\n",
       "        [31],\n",
       "        [ 4],\n",
       "        [15],\n",
       "        [37],\n",
       "        [10],\n",
       "        [23],\n",
       "        [60],\n",
       "        [ 9],\n",
       "        [10],\n",
       "        [19],\n",
       "        [ 6],\n",
       "        [38],\n",
       "        [23],\n",
       "        [12],\n",
       "        [25],\n",
       "        [15],\n",
       "        [11],\n",
       "        [17],\n",
       "        [38],\n",
       "        [31],\n",
       "        [35],\n",
       "        [10],\n",
       "        [27],\n",
       "        [33],\n",
       "        [ 3],\n",
       "        [28],\n",
       "        [49],\n",
       "        [38],\n",
       "        [27],\n",
       "        [20],\n",
       "        [ 1],\n",
       "        [21],\n",
       "        [40],\n",
       "        [35],\n",
       "        [14],\n",
       "        [ 4],\n",
       "        [11],\n",
       "        [15],\n",
       "        [30],\n",
       "        [17],\n",
       "        [43],\n",
       "        [40],\n",
       "        [10],\n",
       "        [ 1],\n",
       "        [30],\n",
       "        [31],\n",
       "        [ 8],\n",
       "        [20],\n",
       "        [ 7],\n",
       "        [26],\n",
       "        [19],\n",
       "        [26],\n",
       "        [ 1],\n",
       "        [ 3],\n",
       "        [38],\n",
       "        [ 8],\n",
       "        [ 3],\n",
       "        [23],\n",
       "        [ 5],\n",
       "        [44],\n",
       "        [21],\n",
       "        [ 9],\n",
       "        [27],\n",
       "        [15],\n",
       "        [36],\n",
       "        [18],\n",
       "        [19],\n",
       "        [19],\n",
       "        [30],\n",
       "        [19],\n",
       "        [25],\n",
       "        [15],\n",
       "        [ 4]], dtype=int64),\n",
       " array([[139750],\n",
       "        [173200],\n",
       "        [ 79750],\n",
       "        [115000],\n",
       "        [141500],\n",
       "        [ 97000],\n",
       "        [175000],\n",
       "        [147765],\n",
       "        [119250],\n",
       "        [129000],\n",
       "        [119800],\n",
       "        [ 79800],\n",
       "        [ 77700],\n",
       "        [ 78000],\n",
       "        [104800],\n",
       "        [117150],\n",
       "        [101000],\n",
       "        [103450],\n",
       "        [124750],\n",
       "        [137000],\n",
       "        [ 89565],\n",
       "        [102580],\n",
       "        [ 93904],\n",
       "        [113068],\n",
       "        [ 74830],\n",
       "        [106294],\n",
       "        [134885],\n",
       "        [ 82379],\n",
       "        [ 77000],\n",
       "        [118223],\n",
       "        [132261],\n",
       "        [ 79916],\n",
       "        [117256],\n",
       "        [ 80225],\n",
       "        [ 80225],\n",
       "        [ 77000],\n",
       "        [155750],\n",
       "        [ 86373],\n",
       "        [125196],\n",
       "        [100938],\n",
       "        [146500],\n",
       "        [ 93418],\n",
       "        [101299],\n",
       "        [231545],\n",
       "        [ 94384],\n",
       "        [114778],\n",
       "        [ 98193],\n",
       "        [151768],\n",
       "        [140096],\n",
       "        [ 70768],\n",
       "        [126621],\n",
       "        [108875],\n",
       "        [ 74692],\n",
       "        [106639],\n",
       "        [103760],\n",
       "        [ 83900],\n",
       "        [117704],\n",
       "        [ 90215],\n",
       "        [100135],\n",
       "        [ 75044],\n",
       "        [ 90304],\n",
       "        [ 75243],\n",
       "        [109785],\n",
       "        [103613],\n",
       "        [ 68404],\n",
       "        [100522],\n",
       "        [101000],\n",
       "        [ 99418],\n",
       "        [111512],\n",
       "        [ 91412],\n",
       "        [126320],\n",
       "        [146856],\n",
       "        [100131],\n",
       "        [ 92391],\n",
       "        [113398],\n",
       "        [ 73266],\n",
       "        [150480],\n",
       "        [193000],\n",
       "        [ 86100],\n",
       "        [ 84240],\n",
       "        [150743],\n",
       "        [135585],\n",
       "        [144640],\n",
       "        [ 88825],\n",
       "        [122960],\n",
       "        [132825],\n",
       "        [152708],\n",
       "        [ 88400],\n",
       "        [172272],\n",
       "        [107008],\n",
       "        [ 97032],\n",
       "        [105128],\n",
       "        [105631],\n",
       "        [166024],\n",
       "        [123683],\n",
       "        [ 84000],\n",
       "        [ 95611],\n",
       "        [129676],\n",
       "        [102235],\n",
       "        [106689],\n",
       "        [133217],\n",
       "        [126933],\n",
       "        [153303],\n",
       "        [127512],\n",
       "        [ 83850],\n",
       "        [113543],\n",
       "        [ 82099],\n",
       "        [ 82600],\n",
       "        [ 81500],\n",
       "        [131205],\n",
       "        [112429],\n",
       "        [ 82100],\n",
       "        [ 72500],\n",
       "        [104279],\n",
       "        [105000],\n",
       "        [120806],\n",
       "        [148500],\n",
       "        [117515],\n",
       "        [ 72500],\n",
       "        [ 73500],\n",
       "        [115313],\n",
       "        [124309],\n",
       "        [ 97262],\n",
       "        [ 62884],\n",
       "        [ 96614],\n",
       "        [ 78162],\n",
       "        [155500],\n",
       "        [ 72500],\n",
       "        [113278],\n",
       "        [ 73000],\n",
       "        [ 83001],\n",
       "        [ 76840],\n",
       "        [ 77500],\n",
       "        [ 72500],\n",
       "        [168635],\n",
       "        [136000],\n",
       "        [108262],\n",
       "        [105668],\n",
       "        [ 73877],\n",
       "        [152664],\n",
       "        [100102],\n",
       "        [ 81500],\n",
       "        [106608],\n",
       "        [ 89942],\n",
       "        [112696],\n",
       "        [119015],\n",
       "        [ 92000],\n",
       "        [156938],\n",
       "        [144651],\n",
       "        [ 95079],\n",
       "        [128148],\n",
       "        [ 92000],\n",
       "        [111168],\n",
       "        [103994],\n",
       "        [ 92000],\n",
       "        [118971],\n",
       "        [113341],\n",
       "        [ 88000],\n",
       "        [ 95408],\n",
       "        [137167],\n",
       "        [ 89516],\n",
       "        [176500],\n",
       "        [ 98510],\n",
       "        [ 89942],\n",
       "        [ 88795],\n",
       "        [105890],\n",
       "        [167284],\n",
       "        [130664],\n",
       "        [101210],\n",
       "        [181257],\n",
       "        [ 91227],\n",
       "        [151575],\n",
       "        [ 93164],\n",
       "        [134185],\n",
       "        [105000],\n",
       "        [111751],\n",
       "        [ 95436],\n",
       "        [100944],\n",
       "        [147349],\n",
       "        [ 92000],\n",
       "        [142467],\n",
       "        [141136],\n",
       "        [100000],\n",
       "        [150000],\n",
       "        [101000],\n",
       "        [134000],\n",
       "        [103750],\n",
       "        [107500],\n",
       "        [106300],\n",
       "        [153750],\n",
       "        [180000],\n",
       "        [133700],\n",
       "        [122100],\n",
       "        [ 86250],\n",
       "        [ 90000],\n",
       "        [113600],\n",
       "        [ 92700],\n",
       "        [ 92000],\n",
       "        [189409],\n",
       "        [114500],\n",
       "        [ 92700],\n",
       "        [119700],\n",
       "        [160400],\n",
       "        [152500],\n",
       "        [165000],\n",
       "        [ 96545],\n",
       "        [162200],\n",
       "        [120000],\n",
       "        [ 91300],\n",
       "        [163200],\n",
       "        [ 91000],\n",
       "        [111350],\n",
       "        [128400],\n",
       "        [126200],\n",
       "        [118700],\n",
       "        [145350],\n",
       "        [146000],\n",
       "        [105350],\n",
       "        [109650],\n",
       "        [119500],\n",
       "        [170000],\n",
       "        [145200],\n",
       "        [107150],\n",
       "        [129600],\n",
       "        [ 87800],\n",
       "        [122400],\n",
       "        [ 63900],\n",
       "        [ 70000],\n",
       "        [ 88175],\n",
       "        [133900],\n",
       "        [ 91000],\n",
       "        [ 73300],\n",
       "        [148750],\n",
       "        [117555],\n",
       "        [ 69700],\n",
       "        [ 81700],\n",
       "        [114000],\n",
       "        [ 63100],\n",
       "        [ 77202],\n",
       "        [ 96200],\n",
       "        [ 69200],\n",
       "        [122875],\n",
       "        [102600],\n",
       "        [108200],\n",
       "        [ 84273],\n",
       "        [ 90450],\n",
       "        [ 91100],\n",
       "        [101100],\n",
       "        [128800],\n",
       "        [204000],\n",
       "        [109000],\n",
       "        [102000],\n",
       "        [132000],\n",
       "        [ 77500],\n",
       "        [116450],\n",
       "        [ 83000],\n",
       "        [140300],\n",
       "        [ 74000],\n",
       "        [ 73800],\n",
       "        [ 92550],\n",
       "        [ 88600],\n",
       "        [107550],\n",
       "        [121200],\n",
       "        [126000],\n",
       "        [ 99000],\n",
       "        [134800],\n",
       "        [143940],\n",
       "        [104350],\n",
       "        [ 89650],\n",
       "        [103700],\n",
       "        [143250],\n",
       "        [194800],\n",
       "        [ 73000],\n",
       "        [ 74000],\n",
       "        [ 78500],\n",
       "        [ 93000],\n",
       "        [107200],\n",
       "        [163200],\n",
       "        [107100],\n",
       "        [100600],\n",
       "        [136500],\n",
       "        [103600],\n",
       "        [ 57800],\n",
       "        [155865],\n",
       "        [ 88650],\n",
       "        [ 81800],\n",
       "        [115800],\n",
       "        [ 85000],\n",
       "        [150500],\n",
       "        [ 74000],\n",
       "        [174500],\n",
       "        [168500],\n",
       "        [183800],\n",
       "        [104800],\n",
       "        [107300],\n",
       "        [ 97150],\n",
       "        [126300],\n",
       "        [148800],\n",
       "        [ 72300],\n",
       "        [ 70700],\n",
       "        [ 88600],\n",
       "        [127100],\n",
       "        [170500],\n",
       "        [105260],\n",
       "        [144050],\n",
       "        [111350],\n",
       "        [ 74500],\n",
       "        [122500],\n",
       "        [ 74000],\n",
       "        [166800],\n",
       "        [ 92050],\n",
       "        [108100],\n",
       "        [ 94350],\n",
       "        [100351],\n",
       "        [146800],\n",
       "        [ 84716],\n",
       "        [ 71065],\n",
       "        [ 67559],\n",
       "        [134550],\n",
       "        [135027],\n",
       "        [104428],\n",
       "        [ 95642],\n",
       "        [126431],\n",
       "        [161101],\n",
       "        [162221],\n",
       "        [ 84500],\n",
       "        [124714],\n",
       "        [151650],\n",
       "        [ 99247],\n",
       "        [134778],\n",
       "        [192253],\n",
       "        [116518],\n",
       "        [105450],\n",
       "        [145098],\n",
       "        [104542],\n",
       "        [151445],\n",
       "        [ 98053],\n",
       "        [145000],\n",
       "        [128464],\n",
       "        [137317],\n",
       "        [106231],\n",
       "        [124312],\n",
       "        [114596],\n",
       "        [162150],\n",
       "        [150376],\n",
       "        [107986],\n",
       "        [142023],\n",
       "        [128250],\n",
       "        [ 80139],\n",
       "        [144309],\n",
       "        [186960],\n",
       "        [ 93519],\n",
       "        [142500],\n",
       "        [138000],\n",
       "        [ 83600],\n",
       "        [145028],\n",
       "        [ 88709],\n",
       "        [107309],\n",
       "        [109954],\n",
       "        [ 78785],\n",
       "        [121946],\n",
       "        [109646],\n",
       "        [138771],\n",
       "        [ 81285],\n",
       "        [205500],\n",
       "        [101036],\n",
       "        [115435],\n",
       "        [108413],\n",
       "        [131950],\n",
       "        [134690],\n",
       "        [ 78182],\n",
       "        [110515],\n",
       "        [109707],\n",
       "        [136660],\n",
       "        [103275],\n",
       "        [103649],\n",
       "        [ 74856],\n",
       "        [ 77081],\n",
       "        [150680],\n",
       "        [104121],\n",
       "        [ 75996],\n",
       "        [172505],\n",
       "        [ 86895],\n",
       "        [105000],\n",
       "        [125192],\n",
       "        [114330],\n",
       "        [139219],\n",
       "        [109305],\n",
       "        [119450],\n",
       "        [186023],\n",
       "        [166605],\n",
       "        [151292],\n",
       "        [103106],\n",
       "        [150564],\n",
       "        [101738],\n",
       "        [ 95329],\n",
       "        [ 81035]], dtype=int64))"
      ]
     },
     "execution_count": 31,
     "metadata": {},
     "output_type": "execute_result"
    }
   ],
   "source": [
    "x=df.Experience.values.reshape(-1,1)\n",
    "y=df.Salary.values.reshape(-1,1)\n",
    "x,y"
   ]
  },
  {
   "cell_type": "code",
   "execution_count": 32,
   "id": "3e50dfdc",
   "metadata": {},
   "outputs": [],
   "source": [
    "from sklearn.model_selection import train_test_split\n",
    "xtrain,ytrain,xtest,ytest=train_test_split(x,y,test_size=0.3)"
   ]
  },
  {
   "cell_type": "code",
   "execution_count": 33,
   "id": "c6b5a46a",
   "metadata": {},
   "outputs": [],
   "source": [
    "from sklearn.linear_model import LinearRegression"
   ]
  },
  {
   "cell_type": "code",
   "execution_count": 34,
   "id": "c9fe96a6",
   "metadata": {},
   "outputs": [],
   "source": [
    "model=LinearRegression()"
   ]
  },
  {
   "cell_type": "code",
   "execution_count": 35,
   "id": "75cc433e",
   "metadata": {},
   "outputs": [
    {
     "data": {
      "text/plain": [
       "LinearRegression()"
      ]
     },
     "execution_count": 35,
     "metadata": {},
     "output_type": "execute_result"
    }
   ],
   "source": [
    "model.fit(x,y)"
   ]
  },
  {
   "cell_type": "code",
   "execution_count": 36,
   "id": "111b9232",
   "metadata": {},
   "outputs": [
    {
     "name": "stdout",
     "output_type": "stream",
     "text": [
      "104652\n"
     ]
    }
   ],
   "source": [
    "model.fit(x,y)\n",
    "next_Salary=model.predict([[6]])\n",
    "print(int(next_Salary))"
   ]
  },
  {
   "cell_type": "code",
   "execution_count": 37,
   "id": "dd73347e",
   "metadata": {},
   "outputs": [
    {
     "data": {
      "text/plain": [
       "0.11205399790940607"
      ]
     },
     "execution_count": 37,
     "metadata": {},
     "output_type": "execute_result"
    }
   ],
   "source": [
    "model.score(x,y)"
   ]
  },
  {
   "cell_type": "code",
   "execution_count": null,
   "id": "da97fd79",
   "metadata": {},
   "outputs": [],
   "source": []
  },
  {
   "cell_type": "code",
   "execution_count": null,
   "id": "df476d68",
   "metadata": {},
   "outputs": [],
   "source": []
  },
  {
   "cell_type": "code",
   "execution_count": null,
   "id": "bd57275c",
   "metadata": {},
   "outputs": [],
   "source": []
  },
  {
   "cell_type": "code",
   "execution_count": null,
   "id": "92f6735a",
   "metadata": {},
   "outputs": [],
   "source": []
  },
  {
   "cell_type": "code",
   "execution_count": null,
   "id": "a89be656",
   "metadata": {},
   "outputs": [],
   "source": []
  }
 ],
 "metadata": {
  "kernelspec": {
   "display_name": "Python 3 (ipykernel)",
   "language": "python",
   "name": "python3"
  },
  "language_info": {
   "codemirror_mode": {
    "name": "ipython",
    "version": 3
   },
   "file_extension": ".py",
   "mimetype": "text/x-python",
   "name": "python",
   "nbconvert_exporter": "python",
   "pygments_lexer": "ipython3",
   "version": "3.9.7"
  }
 },
 "nbformat": 4,
 "nbformat_minor": 5
}
